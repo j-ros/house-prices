{
  "cells": [
    {
      "metadata": {
        "_uuid": "8f2839f25d086af736a60e9eeb907d3b93b6e0e5",
        "_cell_guid": "b1076dfc-b9ad-4769-8c92-a6c4dae69d19",
        "trusted": true,
        "collapsed": true
      },
      "cell_type": "code",
      "source": "import numpy as np \nimport pandas as pd \n\nimport os\nprint(os.listdir(\"../input\"))",
      "execution_count": null,
      "outputs": []
    },
    {
      "metadata": {
        "_cell_guid": "79c7e3d0-c299-4dcb-8224-4455121ee9b0",
        "collapsed": true,
        "_uuid": "d629ff2d2480ee46fbb7e2d37f6b5fab8052498a",
        "trusted": false
      },
      "cell_type": "markdown",
      "source": "**Objective** \n\nThe objective of this kernel is to explore the House Prices dataset and generate a clean dataset to train the models. Feel free to use the resulting clean datasets for modelling, but add a reference pointing to this kernel.\n"
    },
    {
      "metadata": {
        "_uuid": "46450a318516b1b1de264e011ff2e0ec66bce2bd"
      },
      "cell_type": "markdown",
      "source": "**Load dataset**\n\nFirst of all let's read the training and test datasets."
    },
    {
      "metadata": {
        "trusted": true,
        "_uuid": "055d335d0a9aab58c533e69c45f71c85a6906b4c",
        "collapsed": true
      },
      "cell_type": "code",
      "source": "train = pd.read_csv(\"../input/train.csv\")\ntest = pd.read_csv(\"../input/test.csv\")",
      "execution_count": null,
      "outputs": []
    },
    {
      "metadata": {
        "_uuid": "c09774418bede1da4afb6e926a0e9440e01f88f3"
      },
      "cell_type": "markdown",
      "source": "**Preprocessing**\n\nAs indicated in the [documentation](http://ww2.amstat.org/publications/jse/v19n3/Decock/DataDocumentation.txt), this dataset has some outliers. First we will explore and remove those and then we will inspect and clean the NULL values in the dataset for each variable. "
    },
    {
      "metadata": {
        "trusted": true,
        "_uuid": "dbc62b71068f8207e03ae56fe66060c0e127cc15",
        "collapsed": true
      },
      "cell_type": "code",
      "source": "train.plot.scatter('GrLivArea', 'SalePrice')",
      "execution_count": null,
      "outputs": []
    },
    {
      "metadata": {
        "_uuid": "2a7439ab17255a945b5e6eef85d1873dcc23422f"
      },
      "cell_type": "markdown",
      "source": "Gotcha! We can see there are indeed two points with GrLivArea > 4000 and SalePrice around 150-200k. Such a bargain! Bear in mind the variable GrLivArea specifies the living area in square feet, so it is not surprising to observe a somewhat linear relation between living area and house price. We will remove points with GrLivArea > 4000 and SalePrice < 300000.."
    },
    {
      "metadata": {
        "trusted": true,
        "_uuid": "d7a4467d9a80c0b313244d376894f455da43a5c3",
        "collapsed": true
      },
      "cell_type": "code",
      "source": "train = train.drop(train[(train['GrLivArea']>4000) & (train['SalePrice']<300000)].index)",
      "execution_count": null,
      "outputs": []
    },
    {
      "metadata": {
        "_uuid": "2f8cbb600d5ace1d955e23f8fbebdf3677e530ea"
      },
      "cell_type": "markdown",
      "source": "Okay, time to clean NULL values. First let's explore how many NULL values we have per attribute."
    },
    {
      "metadata": {
        "trusted": true,
        "_uuid": "cfc9f6fd592b84137bd2b3ae16dda2ca7582a8b9",
        "collapsed": true
      },
      "cell_type": "code",
      "source": "null_values_train = train.isnull().sum()\nprint(null_values_train[null_values_train>0].sort_values(ascending=False))",
      "execution_count": null,
      "outputs": []
    },
    {
      "metadata": {
        "_uuid": "5a3dfea4def2cb8f32196680c52f364173c48b8f"
      },
      "cell_type": "markdown",
      "source": "There we go, we have 19 attributes with missing values ranging from above 99% missing values to around 7%. Let's see if the missing values in test set are the same."
    },
    {
      "metadata": {
        "trusted": true,
        "_uuid": "5ff04a92ccfca092c453b14ec36b12802e93f58d",
        "collapsed": true
      },
      "cell_type": "code",
      "source": "null_values_test = test.isnull().sum()\nprint(null_values_test[null_values_test>0].sort_values(ascending=False))",
      "execution_count": null,
      "outputs": []
    },
    {
      "metadata": {
        "_uuid": "69110a33fe3b1c6d027caa15099ee3bfdf4cede6"
      },
      "cell_type": "markdown",
      "source": "Okay, there are some other fields missing in test set. We have to be careful during imputation so as not to leak data from test. Let's explore and address them one by one."
    },
    {
      "metadata": {
        "_uuid": "8e5217dc0f857240e19f8dfab8c9dc99d40c28a9"
      },
      "cell_type": "markdown",
      "source": "** Cleaning Missing values **\n\n- PoolQC: indicates Pool quality. According to the documentation above, a missing value indicates there is no pool. We will just substitute NULL values for \"None\".\n- MiscFeature: indicates other features not covered in other fields (pools, tennis courts...). A missing values indicates there is no such feature. We will substitute NULL values for \"None\".\n- Alley: type of alley access to property. A values of NULL indicates no alley access. We will substitue NULL values for \"None\".\n- Fence: fence quality. A NULL values indicates no Fence, therefore we will substitute NULL values for \"None\".\n- FireplaceQu: fireplace quality. A NULL value indicates no fireplace. We will replace NULL for \"None\".\n- LotFrontage: linear feet of street connected to property. We will assume that it will be similar to neighbours, therefore we will substitute NULL values by the median of neighbouring houses grouped by \"Neighborhood\".\n- GarageYrBlt: year garage was built. We will substitute NULL values by 0 (no garage).\n- GarageType: garage location. We will replace NULL values by \"None\".\n- GarageFinish: interior finish of the garage. Will substitute NULL values by \"None\".\n- GarageQual: garage quality. We will substitute NULL values by 0 (no garage).\n- GarageCond: garage condition. Will substitute NULL values by \"None\".\n- BsmtFinType2: rating of basement finished area (if multiple types). Will substitute NULL values by \"None\".\n- BsmtExposure: walkout or garden level walls. Will substitute NULL values by \"None\".\n- BsmtFinType1: rating of basement finished area. Will substitute NULL values by \"None\".\n- BsmtCond: general condition of the basement. Will substitute NULL values by \"None\".\n- BsmtQual: height of the basement as ordinal variable. Will substitute NULL values by \"None\".\n- MasVnrArea: masonry veneer area in square feet. We will substitute NULL values by 0 (no masonry).\n- MasVnrType: masonry veneer type. Will substitute NULL values by \"None\".\n- Electrical: electrical system. Just one NULL value, we will substitute by most common value.\n- MSZoning: general zoning classification of the sale. Since there are a few NULL values only we will substitute by most common value.\n- Functional: home functionality. Documentation indicates default is typical, hence we substitute NULL by \"Typ\".\n- BsmtHalfBath: basement half bathrooms. We will substitute NULL values by 0 (no bathroom).\n- BsmtFullBath: basement full bathrooms. We will substitute NULL values by 0 (no bathroom).\n- Utilities: type of utilities available. Since there are a few NULL values only we will substitute by most common value.\n- SaleType: type of sale. Since there are a few NULL values only we will substitute by most common value.\n- GarageArea: size of garage in square feet. We will substitute NULL values by 0 (no garage).\n- GarageCars: size of garage in car capacity. We will substitute NULL values by 0 (no garage).\n- KitchenQual: kitchen quality.  Since there are a few NULL values only we will substitute by most common value.\n- TotalBsmtSF: total square feet of basement area. We will substitute NULL values by 0 (no basement).\n- BsmtUnfSF: unfinished square feet of basement area. We will substitute NULL values by 0 (no basement).\n- BsmtFinSF2: type 2 finished square feet. We will substitute NULL values by 0 (no basement).\n- BsmtFinSF1: type 1 finished square feet. We will substitute NULL values by 0 (no basement).\n- Exterior2nd: exterior covering on house (if more than one material). Since there are a few NULL values only we will substitute by most common value.\n- Exterior1st: exterior covering on house. Since there are a few NULL values only we will substitute by most common value.\n\nSince most variables will be substituted by the same values, we will do it in several steps: one for categorical variables that we want to substitute NULL by \"None\", one by numerical variables that we want to substitute NULL by 0, one for variables with few NULL values that we want to substitute by the most common value and we will treat the LotFrontage and Functional variables on their own.\n"
    },
    {
      "metadata": {
        "trusted": true,
        "collapsed": true,
        "_uuid": "0b6181f090a0a51fe24f86135c65fff62e6cfe5c"
      },
      "cell_type": "code",
      "source": "def cleanNullValues(df,train_df):\n    \"\"\"\n    Clean the NULL values from the dataframe df.\n    \n    - To impute LotFrontage we create a dictionary with Neighborhood->median LotFrontage \n    using the training set.\n    - To impute attributes by most common value we use training set most common value.\n    \n    This prevents data leakage from the test set during imputation.\n    \"\"\"\n    #Categorical variables\n    categorical = ['PoolQC','MiscFeature','Alley','Fence','FireplaceQu','GarageType','GarageFinish',\n                   'GarageCond','BsmtFinType2','BsmtExposure','BsmtFinType1','BsmtCond','BsmtQual',\n                   'MasVnrType']\n    for col in categorical:\n        df[col] = df[col].fillna('None')\n\n    #Numerical variables\n    numerical = ['GarageYrBlt','GarageQual','MasVnrArea','BsmtHalfBath','BsmtFullBath','GarageArea',\n                 'GarageCars','TotalBsmtSF','BsmtUnfSF','BsmtFinSF2','BsmtFinSF1']\n    for col in numerical:\n        df[col] = df[col].fillna(0)\n        \n    #Few NULL values\n    few = ['Electrical','MSZoning','Utilities','SaleType','KitchenQual','Exterior2nd','Exterior1st']\n    for col in few:\n        df[col] = df[col].fillna(train[col].mode()[0])\n    \n    #Functional\n    df['Functional'] = df['Functional'].fillna('Typ')\n\n    #LotFrontage (Adapted from https://www.kaggle.com/serigne/stacked-regressions-top-4-on-leaderboard)\n    neighborhood2lotfrontage = train.loc[:,['Neighborhood','LotFrontage']].groupby(\n                                       ['Neighborhood']).median()['LotFrontage'].to_dict()\n    for key, _ in df.groupby(\"Neighborhood\")[\"LotFrontage\"]:\n        df[\"LotFrontage\"] = df.groupby(\"Neighborhood\")[\"LotFrontage\"].transform(\n            lambda x: x.fillna(neighborhood2lotfrontage[key]))\n        \n    return df\n",
      "execution_count": null,
      "outputs": []
    },
    {
      "metadata": {
        "trusted": true,
        "_uuid": "b4a23233f3c9e8e87dbc35d07008203466d7d7fa",
        "collapsed": true
      },
      "cell_type": "code",
      "source": "train = cleanNullValues(train,train)\ntest = cleanNullValues(test,train)\n\n#Check that all NULL values are cleaned\nprint('Training set:')\nprint(sum(train.isnull().sum()>0))\nprint('Test set:')\nprint(sum(test.isnull().sum()>0))",
      "execution_count": null,
      "outputs": []
    },
    {
      "metadata": {
        "_uuid": "28b6801cdeefc352e7390a2e201dfad93733b8fe"
      },
      "cell_type": "markdown",
      "source": "** Write clean files **\n\nFinally we write the clean files for our models to use!"
    },
    {
      "metadata": {
        "trusted": true,
        "collapsed": true,
        "_uuid": "baff65041fc6a83857bd42309c6d2e127af88b01"
      },
      "cell_type": "code",
      "source": "train.to_csv('train_clean.csv',index=False)\ntest.to_csv('test_clean.csv',index=False)",
      "execution_count": null,
      "outputs": []
    },
    {
      "metadata": {
        "_uuid": "b2a92d0cd37879ab53fa77ba6060fbe5da59ca93"
      },
      "cell_type": "markdown",
      "source": "** Final notes **\n\n- Check this [kernel](https://www.kaggle.com/gunbl4d3/bayesian-optimization-for-house-prices/output) for an example on how to use this dataset to produce a submission for the [House Prices: Advanced Regression Techniques competition](https://www.kaggle.com/c/house-prices-advanced-regression-techniques)."
    }
  ],
  "metadata": {
    "kernelspec": {
      "display_name": "Python 3",
      "language": "python",
      "name": "python3"
    },
    "language_info": {
      "name": "python",
      "version": "3.6.6",
      "mimetype": "text/x-python",
      "codemirror_mode": {
        "name": "ipython",
        "version": 3
      },
      "pygments_lexer": "ipython3",
      "nbconvert_exporter": "python",
      "file_extension": ".py"
    }
  },
  "nbformat": 4,
  "nbformat_minor": 1
}